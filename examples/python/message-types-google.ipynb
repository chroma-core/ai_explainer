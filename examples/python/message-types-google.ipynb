{
 "cells": [
  {
   "cell_type": "markdown",
   "metadata": {},
   "source": [
    "# AI Dev Explainer - AI is just another API\n",
    "\n",
    "This is a notebook for https://www.aiexplainer.dev/predicts-text\n",
    "\n",
    "View all notebooks at https://github.com/chroma-core/ai_explainer"
   ]
  },
  {
   "cell_type": "markdown",
   "metadata": {},
   "source": [
    "## Get an API Key from Google AI Studio\n",
    "1. Go to Google AI Studio: https://aistudio.google.com\n",
    "2. Click on 'Get API key' in the left sidebar\n",
    "3. Create a new API key or use an existing one\n",
    "4. Replace `<your_api_key>` below with your actual API key"
   ]
  },
  {
   "cell_type": "markdown",
   "metadata": {},
   "source": [
    "## Run the code\n",
    "In Colab - you can click, \"Runtime\" -> \"Run All\" in the topbar\n",
    "\n",
    "In VS Code - you can click \"Run All\" in the topbar"
   ]
  },
  {
   "cell_type": "code",
   "execution_count": null,
   "metadata": {},
   "outputs": [],
   "source": [
    "# install dependencies\n",
    "!pip install google-generativeai"
   ]
  },
  {
   "cell_type": "code",
   "execution_count": null,
   "metadata": {},
   "outputs": [],
   "source": [
    "import google.generativeai as genai\n",
    "\n",
    "# Set up the Gemini API client\n",
    "# Replace '<your_api_key>' with your actual Google AI API key\n",
    "genai.configure(api_key='<your_api_key>')\n",
    "\n",
    "# The Python code to convert\n",
    "python_code = \"def sum_list(numbers):\\n return sum(numbers)\"\n",
    "\n",
    "# Set up the messages for the API call\n",
    "# Gemini's API doesn't distinguish between system and user messages in the same way that OpenAI or Anthropics's does. \n",
    "messages = [\n",
    "    {\n",
    "        \"role\": \"user\",\n",
    "        \"parts\": [\"Convert the following code from Python to Javascript:\\n\\n\" + python_code]\n",
    "    }\n",
    "]\n",
    "\n",
    "# Set up the model\n",
    "model = genai.GenerativeModel('models/gemini-1.5-pro', system_instruction=\"You are an expert programmer proficient in both Python and JavaScript.\",)\n",
    "\n",
    "# Make the API call\n",
    "response = model.generate_content(messages)\n",
    "\n",
    "# Extract the converted JavaScript code\n",
    "javascript_code = response.text\n",
    "\n",
    "# Print the original Python code and the converted JavaScript code\n",
    "print(\"Original Python code:\")\n",
    "print(python_code)\n",
    "\n",
    "print(\"\\nConverted JavaScript code:\")\n",
    "print(javascript_code)"
   ]
  }
 ],
 "metadata": {
  "kernelspec": {
   "display_name": "Python 3",
   "language": "python",
   "name": "python3"
  },
  "language_info": {
   "codemirror_mode": {
    "name": "ipython",
    "version": 3
   },
   "file_extension": ".py",
   "mimetype": "text/x-python",
   "name": "python",
   "nbconvert_exporter": "python",
   "pygments_lexer": "ipython3",
   "version": "3.10.10"
  }
 },
 "nbformat": 4,
 "nbformat_minor": 2
}
