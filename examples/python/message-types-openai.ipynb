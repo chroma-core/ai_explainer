{
 "cells": [
  {
   "cell_type": "markdown",
   "metadata": {},
   "source": [
    "# AI Dev Explainer - AI is just another API\n",
    "\n",
    "This is a notebook for https://www.aiexplainer.dev/another-api\n",
    "\n",
    "View all notebooks at https://github.com/chroma-core/ai_explainer"
   ]
  },
  {
   "cell_type": "markdown",
   "metadata": {},
   "source": [
    "## Get an API Key from OpenAI\n",
    "1. Create an OpenAI Account https://platform.openai.com/signup\n",
    "2. Create an API Key https://platform.openai.com/api-keys\n",
    "3. Replace `<your_api_key>` below"
   ]
  },
  {
   "cell_type": "markdown",
   "metadata": {},
   "source": [
    "## Run the code\n",
    "In Colab - you can click, \"Runtime -> \"Run All\" in the topbar\n",
    "\n",
    "In VS Code - you can click \"Run All\" in the topbar"
   ]
  },
  {
   "cell_type": "code",
   "execution_count": null,
   "metadata": {},
   "outputs": [],
   "source": [
    "# install dependencies\n",
    "! pip install openai"
   ]
  },
  {
   "cell_type": "code",
   "execution_count": null,
   "metadata": {},
   "outputs": [],
   "source": [
    "import openai\n",
    "\n",
    "# Set up the OpenAI API client\n",
    "# Replace '<your_api_key>' with your actual OpenAI API key\n",
    "client = openai.OpenAI(api_key='<your_api_key>')\n",
    "\n",
    "# The Python code to convert\n",
    "python_code = \"def sum_list(numbers):\\n return sum(numbers)\"\n",
    "\n",
    "# Set up the messages for the API call\n",
    "messages = [\n",
    "    {\n",
    "        \"role\": \"system\",\n",
    "        \"content\": \"You are an expert programmer proficient in both Python and JavaScript. \"\n",
    "    },\n",
    "    {\n",
    "        \"role\": \"user\",\n",
    "        \"content\": f\"Convert the following code from Python to Javascript {python_code}\"\n",
    "    }\n",
    "]\n",
    "\n",
    "# Make the API call\n",
    "response = client.chat.completions.create(\n",
    "    model=\"gpt-4-turbo\",\n",
    "    messages=messages\n",
    ")\n",
    "\n",
    "# Extract the converted JavaScript code\n",
    "javascript_code = response.choices[0].message.content\n",
    "\n",
    "# Print the original Python code and the converted JavaScript code\n",
    "print(\"Original Python code:\")\n",
    "print(python_code)\n",
    "\n",
    "print(\"\\nConverted JavaScript code:\")\n",
    "print(javascript_code)"
   ]
  }
 ],
 "metadata": {
  "kernelspec": {
   "display_name": "Python 3",
   "language": "python",
   "name": "python3"
  },
  "language_info": {
   "codemirror_mode": {
    "name": "ipython",
    "version": 3
   },
   "file_extension": ".py",
   "mimetype": "text/x-python",
   "name": "python",
   "nbconvert_exporter": "python",
   "pygments_lexer": "ipython3",
   "version": "3.10.10"
  }
 },
 "nbformat": 4,
 "nbformat_minor": 2
}
