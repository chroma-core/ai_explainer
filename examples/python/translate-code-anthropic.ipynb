{
 "cells": [
  {
   "cell_type": "markdown",
   "metadata": {},
   "source": [
    "# AI Dev Explainer - AI predicts text\n",
    "\n",
    "This is a notebook for https://www.aiexplainer.dev/predicts-text\n",
    "\n",
    "View all notebooks at https://github.com/chroma-core/ai_explainer"
   ]
  },
  {
   "cell_type": "markdown",
   "metadata": {},
   "source": [
    "## Get an API Key from Anthropic\n",
    "1. Create an account - https://console.anthropic.com/\n",
    "2. Create an API key - https://console.anthropic.com/settings/keys\n",
    "3. Replace `<your_api_key>` below"
   ]
  },
  {
   "cell_type": "markdown",
   "metadata": {},
   "source": [
    "## Run the code\n",
    "In Colab - you can click, \"Runtime -> \"Run All\" in the topbar\n",
    "\n",
    "In VS Code - you can click \"Run All\" in the topbar"
   ]
  },
  {
   "cell_type": "code",
   "execution_count": null,
   "metadata": {},
   "outputs": [],
   "source": [
    "# install dependencies\n",
    "! pip install anthropic"
   ]
  },
  {
   "cell_type": "code",
   "execution_count": null,
   "metadata": {},
   "outputs": [],
   "source": [
    "import anthropic\n",
    "import re\n",
    "\n",
    "# Initialize the Anthropic client\n",
    "# Replace '<your_api_key>' with your actual Anthropic API key\n",
    "client = anthropic.Client(api_key='<your_api_key>')\n",
    "\n",
    "# The code to translate\n",
    "code = \"\"\"\n",
    "def sum_list(numbers):\n",
    "    '''\n",
    "    Sum the numbers in the list\n",
    "    '''\n",
    "    return sum(numbers)\"\"\"\n",
    "\n",
    "# Prompt for Claude\n",
    "prompt = f\"\"\"Human: Convert the following code from Python to Javascript\n",
    "\n",
    "{code}\n",
    "\n",
    "Only provide the JS code, do not include any comments before or after.\n",
    "\n",
    "Assistant:\"\"\"\n",
    "\n",
    "# Call the Anthropic API\n",
    "# This is a legacy API but is illustrative, future notebooks use the new API\n",
    "response = client.completions.create(\n",
    "    prompt=prompt,\n",
    "    model=\"claude-2.1\",\n",
    "    max_tokens_to_sample=300,\n",
    "    temperature=0,\n",
    ")\n",
    "\n",
    "# Extract the code from the response\n",
    "code = response.completion.strip()\n",
    "\n",
    "# Clean up the code (remove any extra spaces, newlines, etc.)\n",
    "code = re.sub(r'\\s+', ' ', code).strip()\n",
    "\n",
    "# Print the resulting code\n",
    "print(f\"{code}\")"
   ]
  }
 ],
 "metadata": {
  "kernelspec": {
   "display_name": "Python 3",
   "language": "python",
   "name": "python3"
  },
  "language_info": {
   "codemirror_mode": {
    "name": "ipython",
    "version": 3
   },
   "file_extension": ".py",
   "mimetype": "text/x-python",
   "name": "python",
   "nbconvert_exporter": "python",
   "pygments_lexer": "ipython3",
   "version": "3.10.10"
  }
 },
 "nbformat": 4,
 "nbformat_minor": 2
}
