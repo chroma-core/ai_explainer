{
 "cells": [
  {
   "cell_type": "markdown",
   "metadata": {},
   "source": [
    "# AI Dev Explainer - AI is useful\n",
    "\n",
    "This is a notebook for https://www.aiexplainer.dev/useful\n",
    "\n",
    "View all notebooks at https://github.com/chroma-core/ai_explainer"
   ]
  },
  {
   "cell_type": "markdown",
   "metadata": {},
   "source": [
    "## Get an API Key from Google AI Studio\n",
    "1. Go to Google AI Studio: https://aistudio.google.com\n",
    "2. Click on 'Get API key' in the left sidebar\n",
    "3. Create a new API key or use an existing one\n",
    "4. Replace `<your_api_key>` below with your actual API key"
   ]
  },
  {
   "cell_type": "markdown",
   "metadata": {},
   "source": [
    "## Run the code\n",
    "In Colab - you can click, \"Runtime\" -> \"Run All\" in the topbar\n",
    "\n",
    "In VS Code - you can click \"Run All\" in the topbar"
   ]
  },
  {
   "cell_type": "code",
   "execution_count": null,
   "metadata": {},
   "outputs": [],
   "source": [
    "# install dependencies\n",
    "! pip install google-generativeai"
   ]
  },
  {
   "cell_type": "code",
   "execution_count": null,
   "metadata": {},
   "outputs": [],
   "source": [
    "import google.generativeai as genai\n",
    "import re\n",
    "\n",
    "# Set up the Gemini API client\n",
    "# Replace '<your_api_key>' with your actual Google AI API key\n",
    "genai.configure(api_key='<your_api_key>')\n",
    "\n",
    "# The paragraph to analyze\n",
    "paragraph = \"\"\"Now the other princes of the Achaeans slept soundly the whole night through, but Agamemnon son of Atreus was troubled, so that he could get no rest. As when fair Hera's lord flashes his lightning in token of great rain or hail or snow when the snow-flakes whiten the ground, or again as a sign that he will open the wide jaws of hungry war, even so did Agamemnon heave many a heavy sigh, for his soul trembled within him. When he looked upon the plain of Troy he marveled at the many watchfires burning in front of Ilion... - The Iliad, Scroll 10\"\"\"\n",
    "\n",
    "# Create the prompt for Gemini\n",
    "prompt = f\"\"\"List the names of people in the following paragraph, separated by commas:\n",
    "\n",
    "{paragraph}\n",
    "\n",
    "Only provide the list of names, nothing else.\n",
    "\"\"\"\n",
    "\n",
    "# Set up the model\n",
    "model = genai.GenerativeModel(\"models/gemini-1.5-pro\", system_instruction=\"You are a helpful assistant that extracts names from text.\")\n",
    "\n",
    "# Call the Gemini API\n",
    "response = model.generate_content(prompt)\n",
    "\n",
    "# Extract the names from the response\n",
    "names = response.text.strip()\n",
    "\n",
    "# Clean up the names (remove any extra spaces, newlines, etc.)\n",
    "names = re.sub(r'\\s+', ' ', names).strip()\n",
    "\n",
    "# Print the result\n",
    "print(f\"{names}\")"
   ]
  }
 ],
 "metadata": {
  "kernelspec": {
   "display_name": "Python 3",
   "language": "python",
   "name": "python3"
  },
  "language_info": {
   "codemirror_mode": {
    "name": "ipython",
    "version": 3
   },
   "file_extension": ".py",
   "mimetype": "text/x-python",
   "name": "python",
   "nbconvert_exporter": "python",
   "pygments_lexer": "ipython3",
   "version": "3.10.10"
  }
 },
 "nbformat": 4,
 "nbformat_minor": 2
}
