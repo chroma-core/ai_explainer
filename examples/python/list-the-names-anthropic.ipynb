{
 "cells": [
  {
   "cell_type": "markdown",
   "metadata": {},
   "source": [
    "# Get an API Key from Anthropic\n",
    "1. Create an account - https://console.anthropic.com/\n",
    "2. Create an API key - https://console.anthropic.com/settings/keys"
   ]
  },
  {
   "cell_type": "code",
   "execution_count": null,
   "metadata": {},
   "outputs": [],
   "source": [
    "! pip install anthropic"
   ]
  },
  {
   "cell_type": "code",
   "execution_count": null,
   "metadata": {},
   "outputs": [],
   "source": [
    "import anthropic\n",
    "import re\n",
    "\n",
    "# Initialize the Anthropic client\n",
    "# Replace 'your_api_key' with your actual Anthropic API key\n",
    "client = anthropic.Client(api_key='<your_api_key>')\n",
    "\n",
    "# The paragraph to analyze\n",
    "paragraph = \"\"\"Now the other princes of the Achaeans slept soundly the whole night through, but Agamemnon son of Atreus was troubled, so that he could get no rest. As when fair Hera's lord flashes his lightning in token of great rain or hail or snow when the snow-flakes whiten the ground, or again as a sign that he will open the wide jaws of hungry war, even so did Agamemnon heave many a heavy sigh, for his soul trembled within him. When he looked upon the plain of Troy he marveled at the many watchfires burning in front of Ilion... - The Iliad, Scroll 10\"\"\"\n",
    "\n",
    "# Prompt for Claude\n",
    "prompt = f\"\"\"Human: List the names of people in the following paragraph, separated by commas:\n",
    "\n",
    "{paragraph}\n",
    "\n",
    "Only provide the list of names, nothing else. \n",
    "\n",
    "Assistant:\"\"\"\n",
    "\n",
    "# Call the Anthropic API\n",
    "response = client.completions.create(\n",
    "    prompt=prompt,\n",
    "    model=\"claude-2.1\",\n",
    "    max_tokens_to_sample=300,\n",
    "    temperature=0,\n",
    ")\n",
    "\n",
    "# Extract the names from the response\n",
    "names = response.completion.strip()\n",
    "\n",
    "# Clean up the names (remove any extra spaces, newlines, etc.)\n",
    "names = re.sub(r'\\s+', ' ', names).strip()\n",
    "\n",
    "# Print the result\n",
    "print(f\"{names}\")"
   ]
  }
 ],
 "metadata": {
  "kernelspec": {
   "display_name": "Python 3",
   "language": "python",
   "name": "python3"
  },
  "language_info": {
   "codemirror_mode": {
    "name": "ipython",
    "version": 3
   },
   "file_extension": ".py",
   "mimetype": "text/x-python",
   "name": "python",
   "nbconvert_exporter": "python",
   "pygments_lexer": "ipython3",
   "version": "3.10.10"
  }
 },
 "nbformat": 4,
 "nbformat_minor": 2
}
