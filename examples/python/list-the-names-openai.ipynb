{
 "cells": [
  {
   "cell_type": "markdown",
   "metadata": {},
   "source": [
    "# Get an API Key from OpenAI\n",
    "1. Create an OpenAI Account https://platform.openai.com/signup\n",
    "2. Create an API Key https://platform.openai.com/api-keys"
   ]
  },
  {
   "cell_type": "code",
   "execution_count": null,
   "metadata": {},
   "outputs": [],
   "source": [
    "! pip install openai"
   ]
  },
  {
   "cell_type": "code",
   "execution_count": null,
   "metadata": {},
   "outputs": [],
   "source": [
    "import openai\n",
    "import re\n",
    "\n",
    "# Set up the OpenAI API client\n",
    "# Replace 'your_api_key' with your actual OpenAI API key\n",
    "client = openai.OpenAI(api_key='<your_api_key>')\n",
    "\n",
    "# The paragraph to analyze\n",
    "paragraph = \"\"\"Now the other princes of the Achaeans slept soundly the whole night through, but Agamemnon son of Atreus was troubled, so that he could get no rest. As when fair Hera's lord flashes his lightning in token of great rain or hail or snow when the snow-flakes whiten the ground, or again as a sign that he will open the wide jaws of hungry war, even so did Agamemnon heave many a heavy sigh, for his soul trembled within him. When he looked upon the plain of Troy he marveled at the many watchfires burning in front of Ilion... - The Iliad, Scroll 10\"\"\"\n",
    "\n",
    "# Create the prompt for GPT\n",
    "prompt = f\"List the names of people in the following paragraph, separated by commas:\\n\\n{paragraph}\\n\\nOnly provide the list of names, nothing else.\"\n",
    "\n",
    "# Call the OpenAI API\n",
    "response = client.chat.completions.create(\n",
    "    model=\"gpt-3.5-turbo\",\n",
    "    messages=[\n",
    "        {\"role\": \"system\", \"content\": \"You are a helpful assistant that extracts names from text.\"},\n",
    "        {\"role\": \"user\", \"content\": prompt}\n",
    "    ],\n",
    "    max_tokens=100,\n",
    "    n=1,\n",
    "    temperature=0,\n",
    ")\n",
    "\n",
    "# Extract the names from the response\n",
    "names = response.choices[0].message.content.strip()\n",
    "\n",
    "# Clean up the names (remove any extra spaces, newlines, etc.)\n",
    "names = re.sub(r'\\s+', ' ', names).strip()\n",
    "\n",
    "# Print the result\n",
    "print(f\"{names}\")"
   ]
  }
 ],
 "metadata": {
  "kernelspec": {
   "display_name": "Python 3",
   "language": "python",
   "name": "python3"
  },
  "language_info": {
   "codemirror_mode": {
    "name": "ipython",
    "version": 3
   },
   "file_extension": ".py",
   "mimetype": "text/x-python",
   "name": "python",
   "nbconvert_exporter": "python",
   "pygments_lexer": "ipython3",
   "version": "3.10.10"
  }
 },
 "nbformat": 4,
 "nbformat_minor": 2
}
