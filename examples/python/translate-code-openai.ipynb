{
 "cells": [
  {
   "cell_type": "markdown",
   "metadata": {},
   "source": [
    "# AI Dev Explainer - AI is useful\n",
    "\n",
    "This is a notebook for https://www.aiexplainer.dev/predicts-text\n",
    "\n",
    "View all notebooks at https://github.com/chroma-core/ai_explainer"
   ]
  },
  {
   "cell_type": "markdown",
   "metadata": {},
   "source": [
    "## Get an API Key from OpenAI\n",
    "1. Create an OpenAI Account https://platform.openai.com/signup\n",
    "2. Create an API Key https://platform.openai.com/api-keys\n",
    "3. Replace `<your_api_key>` below"
   ]
  },
  {
   "cell_type": "markdown",
   "metadata": {},
   "source": [
    "## Run the code\n",
    "In Colab - you can click, \"Runtime -> \"Run All\" in the topbar\n",
    "\n",
    "In VS Code - you can click \"Run All\" in the topbar"
   ]
  },
  {
   "cell_type": "code",
   "execution_count": null,
   "metadata": {},
   "outputs": [],
   "source": [
    "# install dependencies\n",
    "! pip install openai"
   ]
  },
  {
   "cell_type": "code",
   "execution_count": null,
   "metadata": {},
   "outputs": [],
   "source": [
    "import openai\n",
    "import re\n",
    "\n",
    "# Set up the OpenAI API client\n",
    "# Replace '<your_api_key>' with your actual OpenAI API key\n",
    "client = openai.OpenAI(api_key='<your_api_key>')\n",
    "\n",
    "# The code to translate\n",
    "code = \"\"\"\n",
    "def sum_list(numbers):\n",
    "    '''\n",
    "    Sum the numbers in the list\n",
    "    '''\n",
    "    return sum(numbers)\"\"\"\n",
    "\n",
    "# Create the prompt for GPT\n",
    "prompt = f\"\"\"Convert the following code from Python to Javascript:\n",
    "\n",
    "{code}\n",
    "\n",
    "Only provide the JS code, do not include any comments before or after.\"\"\"\n",
    "\n",
    "# Call the OpenAI API\n",
    "response = client.chat.completions.create(\n",
    "    model=\"gpt-4-turbo\",\n",
    "    messages=[\n",
    "        {\"role\": \"system\", \"content\": \"You are a helpful assistant that extracts names from text.\"},\n",
    "        {\"role\": \"user\", \"content\": prompt}\n",
    "    ],\n",
    "    max_tokens=100,\n",
    "    n=1,\n",
    "    temperature=0,\n",
    ")\n",
    "\n",
    "# Extract the code from the response\n",
    "code = response.choices[0].message.content.strip()\n",
    "\n",
    "# Clean up the code (remove any extra spaces, newlines, etc.)\n",
    "code = re.sub(r'\\s+', ' ', code).strip()\n",
    "\n",
    "# Print the resulting code\n",
    "print(f\"{code}\")"
   ]
  }
 ],
 "metadata": {
  "kernelspec": {
   "display_name": "Python 3",
   "language": "python",
   "name": "python3"
  },
  "language_info": {
   "codemirror_mode": {
    "name": "ipython",
    "version": 3
   },
   "file_extension": ".py",
   "mimetype": "text/x-python",
   "name": "python",
   "nbconvert_exporter": "python",
   "pygments_lexer": "ipython3",
   "version": "3.10.10"
  }
 },
 "nbformat": 4,
 "nbformat_minor": 2
}
