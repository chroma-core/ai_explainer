{
 "cells": [
  {
   "cell_type": "markdown",
   "metadata": {},
   "source": [
    "# AI Dev Explainer - AI predicts text\n",
    "\n",
    "This is a notebook for https://www.aiexplainer.dev/predicts-text\n",
    "\n",
    "View all notebooks at https://github.com/chroma-core/ai_explainer"
   ]
  },
  {
   "cell_type": "markdown",
   "metadata": {},
   "source": [
    "## Get an API Key from Google AI Studio\n",
    "1. Go to Google AI Studio: https://aistudio.google.com\n",
    "2. Click on 'Get API key' in the left sidebar\n",
    "3. Create a new API key or use an existing one\n",
    "4. Replace `<your_api_key>` below with your actual API key"
   ]
  },
  {
   "cell_type": "markdown",
   "metadata": {},
   "source": [
    "## Run the code\n",
    "In Colab - you can click, \"Runtime\" -> \"Run All\" in the topbar\n",
    "\n",
    "In VS Code - you can click \"Run All\" in the topbar"
   ]
  },
  {
   "cell_type": "code",
   "execution_count": null,
   "metadata": {},
   "outputs": [],
   "source": [
    "# install dependencies\n",
    "! pip install google-generativeai"
   ]
  },
  {
   "cell_type": "code",
   "execution_count": null,
   "metadata": {},
   "outputs": [],
   "source": [
    "import google.generativeai as genai\n",
    "import re\n",
    "\n",
    "# Set up the Gemini API client\n",
    "# Replace '<your_api_key>' with your actual Google AI API key\n",
    "genai.configure(api_key='<your_api_key>')\n",
    "\n",
    "# The code to translate\n",
    "code = \"\"\"\n",
    "def sum_list(numbers):\n",
    "    '''\n",
    "    Sum the numbers in the list\n",
    "    '''\n",
    "    return sum(numbers)\"\"\"\n",
    "\n",
    "# Create the prompt for Gemini\n",
    "prompt = f\"\"\"Convert the following code from Python to Javascript:\n",
    "\n",
    "{code}\n",
    "\n",
    "Only provide the JS code, do not include any comments before or after.\"\"\"\n",
    "\n",
    "# Set up the model\n",
    "model = genai.GenerativeModel('models/gemini-1.5-pro', system_instruction=\"You are a helpful assistant that translate code between languages.\",)\n",
    "\n",
    "# # Call the Gemini API\n",
    "response = model.generate_content(prompt)\n",
    "\n",
    "# Extract the code from the response\n",
    "translated_code = response.text.strip()\n",
    "\n",
    "# Clean up the code (remove any extra spaces, newlines, etc.)\n",
    "translated_code = re.sub(r'\\s+', ' ', translated_code).strip()\n",
    "\n",
    "# Print the resulting code\n",
    "print(f\"{translated_code}\")"
   ]
  }
 ],
 "metadata": {
  "kernelspec": {
   "display_name": "Python 3",
   "language": "python",
   "name": "python3"
  },
  "language_info": {
   "codemirror_mode": {
    "name": "ipython",
    "version": 3
   },
   "file_extension": ".py",
   "mimetype": "text/x-python",
   "name": "python",
   "nbconvert_exporter": "python",
   "pygments_lexer": "ipython3",
   "version": "3.10.10"
  }
 },
 "nbformat": 4,
 "nbformat_minor": 2
}
